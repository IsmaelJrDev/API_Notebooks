{
 "cells": [
  {
   "cell_type": "markdown",
   "id": "4d05f2f4-150d-409a-876a-461e08e3a513",
   "metadata": {},
   "source": [
    "# Regresion Lineal Phishing"
   ]
  },
  {
   "cell_type": "markdown",
   "id": "5104fba8-f961-4f55-b6ac-77b1c3728c51",
   "metadata": {},
   "source": [
    "Detección de phishing en URL de websites y poder predecir cuales podrian res legitimas y cuales serian phishing, Se usara un DataSet co aproximadamente 240,000 datos. Recuperado de [DataSet Phishing](https://archive.ics.uci.edu/dataset/967/phiusiil+phishing+url+dataset)\n",
    "\n",
    "PhiUSIIL Phishing URL Dataset es un conjunto de datos sustancial que comprende 134,850 URL legítimas y 100,945 URL de phishing."
   ]
  },
  {
   "cell_type": "markdown",
   "id": "f14b1d7b-a57f-4594-807e-6ed4bbe1dc44",
   "metadata": {},
   "source": [
    "## Importaciones"
   ]
  },
  {
   "cell_type": "code",
   "execution_count": 1,
   "id": "305171c3-0c17-4a31-993b-1ee73e159bb4",
   "metadata": {},
   "outputs": [],
   "source": [
    "import pandas as pd\n",
    "import numpy as np\n",
    "from sklearn.model_selection import train_test_split\n",
    "from sklearn.linear_model import LogisticRegression\n",
    "from sklearn.metrics import accuracy_score, classification_report, confusion_matrix\n",
    "from sklearn.preprocessing import StandardScaler\n",
    "from html.parser import HTMLParser\n",
    "import seaborn as sns\n",
    "import matplotlib.pyplot as plt"
   ]
  },
  {
   "cell_type": "code",
   "execution_count": 2,
   "id": "a810ced0-a1b1-4bd9-80cd-a4fd5f33abc3",
   "metadata": {},
   "outputs": [],
   "source": [
    "# Clase para procesar HTML (adaptado del notebook proporcionado)\n",
    "class MLStripper(HTMLParser):\n",
    "    def __init__(self):\n",
    "        self.reset()\n",
    "        self.strict = False\n",
    "        self.convert_charrefs = True\n",
    "        self.fed = []\n",
    "\n",
    "    def handle_data(self, d):\n",
    "        self.fed.append(d)\n",
    "\n",
    "    def get_data(self):\n",
    "        return ''.join(self.fed)"
   ]
  },
  {
   "cell_type": "markdown",
   "id": "b8b6c173-a4ad-455e-8cdb-ce7b0d9e32ab",
   "metadata": {},
   "source": [
    "##"
   ]
  },
  {
   "cell_type": "code",
   "execution_count": 3,
   "id": "3645b965-f02b-41b7-84c8-d6d9dcaeb25c",
   "metadata": {},
   "outputs": [],
   "source": [
    "# Función para eliminar etiquetas HTML\n",
    "def strip_html(text):\n",
    "    s = MLStripper()\n",
    "    s.feed(text)\n",
    "    return s.get_data()"
   ]
  },
  {
   "cell_type": "code",
   "execution_count": 4,
   "id": "081b841e-451c-41ac-9e8d-894981b091e6",
   "metadata": {},
   "outputs": [],
   "source": [
    "# Cargar el dataset\n",
    "data_path = \"dataset/PhiUSIIL_Phishing_URL_Dataset.csv\"\n",
    "data = pd.read_csv(data_path)"
   ]
  },
  {
   "cell_type": "code",
   "execution_count": 5,
   "id": "9495f913-0268-41f8-924b-3fe8e47ad88f",
   "metadata": {},
   "outputs": [
    {
     "name": "stdout",
     "output_type": "stream",
     "text": [
      "Primeras filas del dataset:\n",
      "     FILENAME                                 URL  URLLength  \\\n",
      "0  521848.txt    https://www.southbankmosaics.com         31   \n",
      "1   31372.txt            https://www.uni-mainz.de         23   \n",
      "2  597387.txt      https://www.voicefmradio.co.uk         29   \n",
      "3  554095.txt         https://www.sfnmjournal.com         26   \n",
      "4  151578.txt  https://www.rewildingargentina.org         33   \n",
      "\n",
      "                       Domain  DomainLength  IsDomainIP  TLD  \\\n",
      "0    www.southbankmosaics.com            24           0  com   \n",
      "1            www.uni-mainz.de            16           0   de   \n",
      "2      www.voicefmradio.co.uk            22           0   uk   \n",
      "3         www.sfnmjournal.com            19           0  com   \n",
      "4  www.rewildingargentina.org            26           0  org   \n",
      "\n",
      "   URLSimilarityIndex  CharContinuationRate  TLDLegitimateProb  ...  Pay  \\\n",
      "0               100.0              1.000000           0.522907  ...    0   \n",
      "1               100.0              0.666667           0.032650  ...    0   \n",
      "2               100.0              0.866667           0.028555  ...    0   \n",
      "3               100.0              1.000000           0.522907  ...    1   \n",
      "4               100.0              1.000000           0.079963  ...    1   \n",
      "\n",
      "   Crypto  HasCopyrightInfo  NoOfImage  NoOfCSS  NoOfJS  NoOfSelfRef  \\\n",
      "0       0                 1         34       20      28          119   \n",
      "1       0                 1         50        9       8           39   \n",
      "2       0                 1         10        2       7           42   \n",
      "3       1                 1          3       27      15           22   \n",
      "4       0                 1        244       15      34           72   \n",
      "\n",
      "   NoOfEmptyRef  NoOfExternalRef  label  \n",
      "0             0              124      1  \n",
      "1             0              217      1  \n",
      "2             2                5      1  \n",
      "3             1               31      1  \n",
      "4             1               85      1  \n",
      "\n",
      "[5 rows x 56 columns]\n",
      "\n",
      "Resumen del dataset:\n",
      "<class 'pandas.core.frame.DataFrame'>\n",
      "RangeIndex: 235795 entries, 0 to 235794\n",
      "Data columns (total 56 columns):\n",
      " #   Column                      Non-Null Count   Dtype  \n",
      "---  ------                      --------------   -----  \n",
      " 0   FILENAME                    235795 non-null  object \n",
      " 1   URL                         235795 non-null  object \n",
      " 2   URLLength                   235795 non-null  int64  \n",
      " 3   Domain                      235795 non-null  object \n",
      " 4   DomainLength                235795 non-null  int64  \n",
      " 5   IsDomainIP                  235795 non-null  int64  \n",
      " 6   TLD                         235795 non-null  object \n",
      " 7   URLSimilarityIndex          235795 non-null  float64\n",
      " 8   CharContinuationRate        235795 non-null  float64\n",
      " 9   TLDLegitimateProb           235795 non-null  float64\n",
      " 10  URLCharProb                 235795 non-null  float64\n",
      " 11  TLDLength                   235795 non-null  int64  \n",
      " 12  NoOfSubDomain               235795 non-null  int64  \n",
      " 13  HasObfuscation              235795 non-null  int64  \n",
      " 14  NoOfObfuscatedChar          235795 non-null  int64  \n",
      " 15  ObfuscationRatio            235795 non-null  float64\n",
      " 16  NoOfLettersInURL            235795 non-null  int64  \n",
      " 17  LetterRatioInURL            235795 non-null  float64\n",
      " 18  NoOfDegitsInURL             235795 non-null  int64  \n",
      " 19  DegitRatioInURL             235795 non-null  float64\n",
      " 20  NoOfEqualsInURL             235795 non-null  int64  \n",
      " 21  NoOfQMarkInURL              235795 non-null  int64  \n",
      " 22  NoOfAmpersandInURL          235795 non-null  int64  \n",
      " 23  NoOfOtherSpecialCharsInURL  235795 non-null  int64  \n",
      " 24  SpacialCharRatioInURL       235795 non-null  float64\n",
      " 25  IsHTTPS                     235795 non-null  int64  \n",
      " 26  LineOfCode                  235795 non-null  int64  \n",
      " 27  LargestLineLength           235795 non-null  int64  \n",
      " 28  HasTitle                    235795 non-null  int64  \n",
      " 29  Title                       235795 non-null  object \n",
      " 30  DomainTitleMatchScore       235795 non-null  float64\n",
      " 31  URLTitleMatchScore          235795 non-null  float64\n",
      " 32  HasFavicon                  235795 non-null  int64  \n",
      " 33  Robots                      235795 non-null  int64  \n",
      " 34  IsResponsive                235795 non-null  int64  \n",
      " 35  NoOfURLRedirect             235795 non-null  int64  \n",
      " 36  NoOfSelfRedirect            235795 non-null  int64  \n",
      " 37  HasDescription              235795 non-null  int64  \n",
      " 38  NoOfPopup                   235795 non-null  int64  \n",
      " 39  NoOfiFrame                  235795 non-null  int64  \n",
      " 40  HasExternalFormSubmit       235795 non-null  int64  \n",
      " 41  HasSocialNet                235795 non-null  int64  \n",
      " 42  HasSubmitButton             235795 non-null  int64  \n",
      " 43  HasHiddenFields             235795 non-null  int64  \n",
      " 44  HasPasswordField            235795 non-null  int64  \n",
      " 45  Bank                        235795 non-null  int64  \n",
      " 46  Pay                         235795 non-null  int64  \n",
      " 47  Crypto                      235795 non-null  int64  \n",
      " 48  HasCopyrightInfo            235795 non-null  int64  \n",
      " 49  NoOfImage                   235795 non-null  int64  \n",
      " 50  NoOfCSS                     235795 non-null  int64  \n",
      " 51  NoOfJS                      235795 non-null  int64  \n",
      " 52  NoOfSelfRef                 235795 non-null  int64  \n",
      " 53  NoOfEmptyRef                235795 non-null  int64  \n",
      " 54  NoOfExternalRef             235795 non-null  int64  \n",
      " 55  label                       235795 non-null  int64  \n",
      "dtypes: float64(10), int64(41), object(5)\n",
      "memory usage: 100.7+ MB\n",
      "None\n"
     ]
    }
   ],
   "source": [
    "# Inspección inicial del dataset\n",
    "print(\"Primeras filas del dataset:\")\n",
    "print(data.head())\n",
    "print(\"\\nResumen del dataset:\")\n",
    "print(data.info())"
   ]
  },
  {
   "cell_type": "code",
   "execution_count": 6,
   "id": "2c0ff7cb-f60f-4284-8c8d-036ac4e68ad1",
   "metadata": {},
   "outputs": [],
   "source": [
    "# Seleccionar las columnas relevantes\n",
    "irrelevant_columns = ['FILENAME', 'URL', 'Domain', 'TLD', 'Title']\n",
    "data = data.drop(columns=irrelevant_columns)"
   ]
  },
  {
   "cell_type": "code",
   "execution_count": 7,
   "id": "2dee7ecd-050f-47cb-a93f-cb1068692a9b",
   "metadata": {},
   "outputs": [],
   "source": [
    "# Procesar texto si existe contenido HTML (adaptado del notebook)\n",
    "if 'Content' in data.columns:\n",
    "    data['Content'] = data['Content'].apply(strip_html)"
   ]
  },
  {
   "cell_type": "code",
   "execution_count": 8,
   "id": "69fedc51-3071-47ab-94a9-bc7479badb3b",
   "metadata": {},
   "outputs": [],
   "source": [
    "# Separar las variables predictoras (X) y la variable objetivo (y)\n",
    "X = data.drop(columns=['label'])\n",
    "y = data['label']"
   ]
  },
  {
   "cell_type": "code",
   "execution_count": 9,
   "id": "5cd26b4e-f04b-46ba-beb1-582edadc41e8",
   "metadata": {},
   "outputs": [],
   "source": [
    "# Escalar las variables numéricas\n",
    "scaler = StandardScaler()\n",
    "X_scaled = scaler.fit_transform(X)"
   ]
  },
  {
   "cell_type": "code",
   "execution_count": 10,
   "id": "5465241c-c9a1-4e37-90e6-95dfbf21fa0d",
   "metadata": {},
   "outputs": [],
   "source": [
    "# Dividir el dataset en conjuntos de entrenamiento y prueba\n",
    "X_train, X_test, y_train, y_test = train_test_split(X_scaled, y, test_size=0.2, random_state=42)"
   ]
  },
  {
   "cell_type": "code",
   "execution_count": 11,
   "id": "90ae9a93-a052-41ff-8c50-985fc6496c9f",
   "metadata": {},
   "outputs": [
    {
     "data": {
      "text/html": [
       "<style>#sk-container-id-1 {color: black;background-color: white;}#sk-container-id-1 pre{padding: 0;}#sk-container-id-1 div.sk-toggleable {background-color: white;}#sk-container-id-1 label.sk-toggleable__label {cursor: pointer;display: block;width: 100%;margin-bottom: 0;padding: 0.3em;box-sizing: border-box;text-align: center;}#sk-container-id-1 label.sk-toggleable__label-arrow:before {content: \"▸\";float: left;margin-right: 0.25em;color: #696969;}#sk-container-id-1 label.sk-toggleable__label-arrow:hover:before {color: black;}#sk-container-id-1 div.sk-estimator:hover label.sk-toggleable__label-arrow:before {color: black;}#sk-container-id-1 div.sk-toggleable__content {max-height: 0;max-width: 0;overflow: hidden;text-align: left;background-color: #f0f8ff;}#sk-container-id-1 div.sk-toggleable__content pre {margin: 0.2em;color: black;border-radius: 0.25em;background-color: #f0f8ff;}#sk-container-id-1 input.sk-toggleable__control:checked~div.sk-toggleable__content {max-height: 200px;max-width: 100%;overflow: auto;}#sk-container-id-1 input.sk-toggleable__control:checked~label.sk-toggleable__label-arrow:before {content: \"▾\";}#sk-container-id-1 div.sk-estimator input.sk-toggleable__control:checked~label.sk-toggleable__label {background-color: #d4ebff;}#sk-container-id-1 div.sk-label input.sk-toggleable__control:checked~label.sk-toggleable__label {background-color: #d4ebff;}#sk-container-id-1 input.sk-hidden--visually {border: 0;clip: rect(1px 1px 1px 1px);clip: rect(1px, 1px, 1px, 1px);height: 1px;margin: -1px;overflow: hidden;padding: 0;position: absolute;width: 1px;}#sk-container-id-1 div.sk-estimator {font-family: monospace;background-color: #f0f8ff;border: 1px dotted black;border-radius: 0.25em;box-sizing: border-box;margin-bottom: 0.5em;}#sk-container-id-1 div.sk-estimator:hover {background-color: #d4ebff;}#sk-container-id-1 div.sk-parallel-item::after {content: \"\";width: 100%;border-bottom: 1px solid gray;flex-grow: 1;}#sk-container-id-1 div.sk-label:hover label.sk-toggleable__label {background-color: #d4ebff;}#sk-container-id-1 div.sk-serial::before {content: \"\";position: absolute;border-left: 1px solid gray;box-sizing: border-box;top: 0;bottom: 0;left: 50%;z-index: 0;}#sk-container-id-1 div.sk-serial {display: flex;flex-direction: column;align-items: center;background-color: white;padding-right: 0.2em;padding-left: 0.2em;position: relative;}#sk-container-id-1 div.sk-item {position: relative;z-index: 1;}#sk-container-id-1 div.sk-parallel {display: flex;align-items: stretch;justify-content: center;background-color: white;position: relative;}#sk-container-id-1 div.sk-item::before, #sk-container-id-1 div.sk-parallel-item::before {content: \"\";position: absolute;border-left: 1px solid gray;box-sizing: border-box;top: 0;bottom: 0;left: 50%;z-index: -1;}#sk-container-id-1 div.sk-parallel-item {display: flex;flex-direction: column;z-index: 1;position: relative;background-color: white;}#sk-container-id-1 div.sk-parallel-item:first-child::after {align-self: flex-end;width: 50%;}#sk-container-id-1 div.sk-parallel-item:last-child::after {align-self: flex-start;width: 50%;}#sk-container-id-1 div.sk-parallel-item:only-child::after {width: 0;}#sk-container-id-1 div.sk-dashed-wrapped {border: 1px dashed gray;margin: 0 0.4em 0.5em 0.4em;box-sizing: border-box;padding-bottom: 0.4em;background-color: white;}#sk-container-id-1 div.sk-label label {font-family: monospace;font-weight: bold;display: inline-block;line-height: 1.2em;}#sk-container-id-1 div.sk-label-container {text-align: center;}#sk-container-id-1 div.sk-container {/* jupyter's `normalize.less` sets `[hidden] { display: none; }` but bootstrap.min.css set `[hidden] { display: none !important; }` so we also need the `!important` here to be able to override the default hidden behavior on the sphinx rendered scikit-learn.org. See: https://github.com/scikit-learn/scikit-learn/issues/21755 */display: inline-block !important;position: relative;}#sk-container-id-1 div.sk-text-repr-fallback {display: none;}</style><div id=\"sk-container-id-1\" class=\"sk-top-container\"><div class=\"sk-text-repr-fallback\"><pre>LogisticRegression(max_iter=1000, random_state=42)</pre><b>In a Jupyter environment, please rerun this cell to show the HTML representation or trust the notebook. <br />On GitHub, the HTML representation is unable to render, please try loading this page with nbviewer.org.</b></div><div class=\"sk-container\" hidden><div class=\"sk-item\"><div class=\"sk-estimator sk-toggleable\"><input class=\"sk-toggleable__control sk-hidden--visually\" id=\"sk-estimator-id-1\" type=\"checkbox\" checked><label for=\"sk-estimator-id-1\" class=\"sk-toggleable__label sk-toggleable__label-arrow\">LogisticRegression</label><div class=\"sk-toggleable__content\"><pre>LogisticRegression(max_iter=1000, random_state=42)</pre></div></div></div></div></div>"
      ],
      "text/plain": [
       "LogisticRegression(max_iter=1000, random_state=42)"
      ]
     },
     "execution_count": 11,
     "metadata": {},
     "output_type": "execute_result"
    }
   ],
   "source": [
    "# Entrenar el modelo de regresión logística\n",
    "model = LogisticRegression(max_iter=1000, random_state=42)\n",
    "model.fit(X_train, y_train)"
   ]
  },
  {
   "cell_type": "code",
   "execution_count": 12,
   "id": "4fe4930c-4041-4ce6-b937-71f530649eb1",
   "metadata": {},
   "outputs": [],
   "source": [
    "# Realizar predicciones\n",
    "y_pred = model.predict(X_test)"
   ]
  },
  {
   "cell_type": "code",
   "execution_count": 13,
   "id": "8fac7fb3-1541-4ffe-8508-aee414f4c4f4",
   "metadata": {},
   "outputs": [
    {
     "name": "stdout",
     "output_type": "stream",
     "text": [
      "Exactitud del modelo: 1.00\n",
      "\n",
      "Reporte de clasificación:\n",
      "              precision    recall  f1-score   support\n",
      "\n",
      "           0       1.00      1.00      1.00     20124\n",
      "           1       1.00      1.00      1.00     27035\n",
      "\n",
      "    accuracy                           1.00     47159\n",
      "   macro avg       1.00      1.00      1.00     47159\n",
      "weighted avg       1.00      1.00      1.00     47159\n",
      "\n",
      "\n",
      "Matriz de confusión:\n",
      "[[20120     4]\n",
      " [    0 27035]]\n"
     ]
    }
   ],
   "source": [
    "# Evaluar el modelo\n",
    "accuracy = accuracy_score(y_test, y_pred)\n",
    "print(f\"Exactitud del modelo: {accuracy:.2f}\")\n",
    "print(\"\\nReporte de clasificación:\")\n",
    "print(classification_report(y_test, y_pred))\n",
    "print(\"\\nMatriz de confusión:\")\n",
    "print(confusion_matrix(y_test, y_pred))"
   ]
  },
  {
   "cell_type": "code",
   "execution_count": 14,
   "id": "e5fd2bd2-cabc-4b96-bfde-1ac2a85c1a67",
   "metadata": {},
   "outputs": [
    {
     "data": {
      "image/png": "[encoded data removed]",
      "text/plain": [
       "<Figure size 640x480 with 2 Axes>"
      ]
     },
     "metadata": {},
     "output_type": "display_data"
    }
   ],
   "source": [
    "# Graficar la matriz de confusión\n",
    "conf_matrix = confusion_matrix(y_test, y_pred)\n",
    "sns.heatmap(conf_matrix, annot=True, fmt=\"d\", cmap=\"Blues\", xticklabels=['Legit', 'Phishing'], yticklabels=['Legit', 'Phishing'])\n",
    "plt.xlabel(\"Predicted\")\n",
    "plt.ylabel(\"Actual\")\n",
    "plt.title(\"Matriz de Confusión\")\n",
    "plt.show()"
   ]
  },
  {
   "cell_type": "code",
   "execution_count": 15,
   "id": "24cec540-e40e-4c09-b24a-91670da6de29",
   "metadata": {},
   "outputs": [
    {
     "data": {
      "text/plain": [
       "['scaler.pkl']"
      ]
     },
     "execution_count": 15,
     "metadata": {},
     "output_type": "execute_result"
    }
   ],
   "source": [
    "# Guardar el modelo y el escalador\n",
    "import joblib\n",
    "joblib.dump(model, \"phishing_model.pkl\")\n",
    "joblib.dump(scaler, \"scaler.pkl\")"
   ]
  },
  {
   "cell_type": "code",
   "execution_count": 16,
   "id": "a747c5fd-dfeb-4e60-a6c0-d187e20c7d8b",
   "metadata": {},
   "outputs": [
    {
     "name": "stdout",
     "output_type": "stream",
     "text": [
      "Modelo y escalador guardados.\n"
     ]
    }
   ],
   "source": [
    "print(\"Modelo y escalador guardados.\")"
   ]
  },
  {
   "cell_type": "code",
   "execution_count": 17,
   "id": "c34fef17-f926-4989-884b-58ced7f28ffd",
   "metadata": {},
   "outputs": [],
   "source": [
    "# Cargar el modelo guardado (opcional)\n",
    "# model = joblib.load(\"phishing_model.pkl\")\n",
    "# scaler = joblib.load(\"scaler.pkl\")"
   ]
  }
 ],
 "metadata": {
  "kernelspec": {
   "display_name": "Python 3 (ipykernel)",
   "language": "python",
   "name": "python3"
  },
  "language_info": {
   "codemirror_mode": {
    "name": "ipython",
    "version": 3
   },
   "file_extension": ".py",
   "mimetype": "text/x-python",
   "name": "python",
   "nbconvert_exporter": "python",
   "pygments_lexer": "ipython3",
   "version": "3.9.21"
  }
 },
 "nbformat": 4,
 "nbformat_minor": 5
}
